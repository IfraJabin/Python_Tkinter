{
 "cells": [
  {
   "cell_type": "code",
   "execution_count": 4,
   "id": "5fe7be68",
   "metadata": {},
   "outputs": [],
   "source": [
    "from tkinter import *\n",
    "from tkinter import scrolledtext,Menu,filedialog,messagebox"
   ]
  },
  {
   "cell_type": "code",
   "execution_count": 5,
   "id": "e16fcdea",
   "metadata": {},
   "outputs": [],
   "source": [
    "def new():\n",
    "    window.title('Untitled Notepad')\n",
    "    file=None\n",
    "    text.delete(1.0,END)\n",
    "def opened():\n",
    "    file = filedialog.askopenfile()\n",
    "def save():\n",
    "    file=filedialog.asksaveasfile(mode='w')\n",
    "def exit():\n",
    "    messagebox.showwarning('Exit','Do You Wanna Exit')\n",
    "    window.destroy()\n",
    "def cut():\n",
    "    text.event_generate('<<Cut>>')\n",
    "def copy():\n",
    "    text.event_generate('<<Copy>>')\n",
    "def paste():\n",
    "    text.event_generate('<<Paste>>')\n",
    "def delete():\n",
    "    text.delete(1.0,END)\n",
    "def about():\n",
    "    messagebox.showinfo('Notepad','This is a Notepad')"
   ]
  },
  {
   "cell_type": "code",
   "execution_count": 6,
   "id": "3febb786",
   "metadata": {},
   "outputs": [],
   "source": [
    "window=Tk()\n",
    "window.title('Notepad')\n",
    "window.geometry('450x550')\n",
    "\n",
    "\n",
    "#MENU BARS\n",
    "menu=Menu(window)\n",
    "\n",
    "#File Menu\n",
    "item=Menu(menu,tearoff=0)\n",
    "item.add_command(label='New',command=new)\n",
    "item.add_command(label='Open',command=opened)\n",
    "item.add_command(label='Save',command=save)\n",
    "item.add_separator()\n",
    "item.add_command(label='Exit',command=exit)\n",
    "menu.add_cascade(label='File',menu=item)\n",
    "\n",
    "#Edit menu\n",
    "item=Menu(menu,tearoff=0)\n",
    "item.add_command(label='Cut',command=cut)\n",
    "item.add_command(label='Copy',command=copy)\n",
    "item.add_command(label='Paste',command=paste)\n",
    "item.add_separator()\n",
    "item.add_command(label='Delete',command=delete)\n",
    "menu.add_cascade(label='Edit',menu=item)\n",
    "\n",
    "#Help menu\n",
    "item=Menu(menu,tearoff=0)\n",
    "item.add_command(label='About Notebook',command=about)\n",
    "menu.add_cascade(label='Help',menu=item)\n",
    "\n",
    "window.config(menu=menu)\n",
    "\n",
    "#TEXT\n",
    "text=scrolledtext.ScrolledText(window,font=('Arial',20))\n",
    "text.pack(expand=True,fill=BOTH)\n",
    "\n",
    "\n",
    "\n",
    "\n",
    "\n",
    "\n",
    "\n",
    "\n",
    "\n",
    "\n",
    "\n",
    "window.mainloop()"
   ]
  },
  {
   "cell_type": "code",
   "execution_count": null,
   "id": "4b3d4f8e",
   "metadata": {},
   "outputs": [],
   "source": []
  },
  {
   "cell_type": "code",
   "execution_count": null,
   "id": "6f1388ca",
   "metadata": {},
   "outputs": [],
   "source": []
  }
 ],
 "metadata": {
  "kernelspec": {
   "display_name": "Python 3 (ipykernel)",
   "language": "python",
   "name": "python3"
  },
  "language_info": {
   "codemirror_mode": {
    "name": "ipython",
    "version": 3
   },
   "file_extension": ".py",
   "mimetype": "text/x-python",
   "name": "python",
   "nbconvert_exporter": "python",
   "pygments_lexer": "ipython3",
   "version": "3.9.12"
  }
 },
 "nbformat": 4,
 "nbformat_minor": 5
}
